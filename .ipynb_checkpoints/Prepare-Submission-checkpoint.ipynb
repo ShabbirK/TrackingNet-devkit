{
 "cells": [
  {
   "cell_type": "code",
   "execution_count": 22,
   "metadata": {},
   "outputs": [],
   "source": [
    "import pandas as pd\n",
    "import json\n",
    "import pathlib\n",
    "from explore_dir import explore_dir"
   ]
  },
  {
   "cell_type": "code",
   "execution_count": 4,
   "metadata": {},
   "outputs": [
    {
     "name": "stdout",
     "output_type": "stream",
     "text": [
      "cg_5uaJjLHk_0\n",
      "cGwjfCPO-7k_0\n"
     ]
    }
   ],
   "source": [
    "!ls TrackingNet/results/"
   ]
  },
  {
   "cell_type": "code",
   "execution_count": 5,
   "metadata": {},
   "outputs": [],
   "source": [
    "files, dirs, _ = explore_dir('TrackingNet/results/')"
   ]
  },
  {
   "cell_type": "code",
   "execution_count": 7,
   "metadata": {},
   "outputs": [
    {
     "data": {
      "text/plain": [
       "['TrackingNet/results/cGwjfCPO-7k_0', 'TrackingNet/results/cg_5uaJjLHk_0']"
      ]
     },
     "execution_count": 7,
     "metadata": {},
     "output_type": "execute_result"
    }
   ],
   "source": [
    "dirs"
   ]
  },
  {
   "cell_type": "code",
   "execution_count": 23,
   "metadata": {},
   "outputs": [],
   "source": [
    "save_path = 'submission_files/'\n",
    "pathlib.Path(save_path).mkdir(exist_ok=True, parents=True)\n",
    "\n",
    "for dir_path in dirs[:1]:\n",
    "    dname = dir_path.split('/')[-1]\n",
    "    files, _, _ = explore_dir(dir_path)\n",
    "    results_json = None\n",
    "    with open(files[0]) as f:\n",
    "        results_json = json.load(f)\n",
    "        \n",
    "    df = pd.DataFrame(data=results_json['res'])\n",
    "    df.to_csv(save_path + dname + \".txt\", index=False, header=False)"
   ]
  },
  {
   "cell_type": "code",
   "execution_count": null,
   "metadata": {},
   "outputs": [],
   "source": []
  },
  {
   "cell_type": "code",
   "execution_count": null,
   "metadata": {},
   "outputs": [],
   "source": []
  }
 ],
 "metadata": {
  "kernelspec": {
   "display_name": "Python 3",
   "language": "python",
   "name": "python3"
  },
  "language_info": {
   "codemirror_mode": {
    "name": "ipython",
    "version": 3
   },
   "file_extension": ".py",
   "mimetype": "text/x-python",
   "name": "python",
   "nbconvert_exporter": "python",
   "pygments_lexer": "ipython3",
   "version": "3.7.1"
  }
 },
 "nbformat": 4,
 "nbformat_minor": 2
}
