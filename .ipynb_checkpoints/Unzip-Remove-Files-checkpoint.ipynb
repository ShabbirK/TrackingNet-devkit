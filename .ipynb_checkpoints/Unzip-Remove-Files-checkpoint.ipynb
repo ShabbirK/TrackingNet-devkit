{
 "cells": [
  {
   "cell_type": "code",
   "execution_count": 1,
   "metadata": {},
   "outputs": [],
   "source": [
    "%reload_ext autoreload\n",
    "%autoreload 2\n",
    "%matplotlib inline"
   ]
  },
  {
   "cell_type": "code",
   "execution_count": 2,
   "metadata": {},
   "outputs": [],
   "source": [
    "import pathlib\n",
    "import time\n",
    "import shutil\n",
    "import os\n",
    "\n",
    "from zipfile import ZipFile\n",
    "from pathos.multiprocessing import ProcessPool\n",
    "\n",
    "from explore_dir import explore_dir"
   ]
  },
  {
   "cell_type": "code",
   "execution_count": 3,
   "metadata": {},
   "outputs": [
    {
     "name": "stdout",
     "output_type": "stream",
     "text": [
      "TEST\t TRAIN_1   TRAIN_11  TRAIN_3  TRAIN_5  TRAIN_7\tTRAIN_9\r\n",
      "TRAIN_0  TRAIN_10  TRAIN_2   TRAIN_4  TRAIN_6  TRAIN_8\r\n"
     ]
    }
   ],
   "source": [
    "!ls TrackingNet"
   ]
  },
  {
   "cell_type": "code",
   "execution_count": 4,
   "metadata": {},
   "outputs": [],
   "source": [
    "main_dir = 'TrackingNet'"
   ]
  },
  {
   "cell_type": "code",
   "execution_count": 5,
   "metadata": {},
   "outputs": [],
   "source": [
    "files, dirs, file_counts = explore_dir(main_dir)\n",
    "files = [f for f in files if f.endswith('.zip')]"
   ]
  },
  {
   "cell_type": "code",
   "execution_count": 6,
   "metadata": {},
   "outputs": [
    {
     "data": {
      "text/plain": [
       "0"
      ]
     },
     "execution_count": 6,
     "metadata": {},
     "output_type": "execute_result"
    }
   ],
   "source": [
    "len(files)"
   ]
  },
  {
   "cell_type": "code",
   "execution_count": 6,
   "metadata": {},
   "outputs": [],
   "source": [
    "def extract_and_delete(zipped_file_path):\n",
    "    \n",
    "    extract_path = zipped_file_path.replace('zips', 'extracts').replace('.zip', '')\n",
    "    \n",
    "    zip_ref = ZipFile(zipped_file_path, 'r')\n",
    "    zip_ref.extractall(extract_path)\n",
    "    zip_ref.close()\n",
    "    \n",
    "    os.remove(zipped_file_path)"
   ]
  },
  {
   "cell_type": "code",
   "execution_count": 7,
   "metadata": {},
   "outputs": [],
   "source": [
    "pool = ProcessPool(nodes=6)\n",
    "_ = pool.map(extract_and_delete, files)"
   ]
  },
  {
   "cell_type": "code",
   "execution_count": 11,
   "metadata": {},
   "outputs": [],
   "source": [
    "zip_dirs = [d for d in dirs if d.endswith('zips')]"
   ]
  },
  {
   "cell_type": "code",
   "execution_count": 12,
   "metadata": {},
   "outputs": [
    {
     "data": {
      "text/plain": [
       "13"
      ]
     },
     "execution_count": 12,
     "metadata": {},
     "output_type": "execute_result"
    }
   ],
   "source": [
    "len(zip_dirs)"
   ]
  },
  {
   "cell_type": "code",
   "execution_count": 15,
   "metadata": {},
   "outputs": [],
   "source": [
    "for zip_dir in zip_dirs:\n",
    "    try:\n",
    "        pathlib.Path.rmdir(pathlib.Path(zip_dir))\n",
    "    except FileNotFoundError:\n",
    "        pass"
   ]
  },
  {
   "cell_type": "code",
   "execution_count": null,
   "metadata": {},
   "outputs": [],
   "source": []
  },
  {
   "cell_type": "code",
   "execution_count": null,
   "metadata": {},
   "outputs": [],
   "source": []
  }
 ],
 "metadata": {
  "kernelspec": {
   "display_name": "Python 3",
   "language": "python",
   "name": "python3"
  },
  "language_info": {
   "codemirror_mode": {
    "name": "ipython",
    "version": 3
   },
   "file_extension": ".py",
   "mimetype": "text/x-python",
   "name": "python",
   "nbconvert_exporter": "python",
   "pygments_lexer": "ipython3",
   "version": "3.7.3"
  }
 },
 "nbformat": 4,
 "nbformat_minor": 2
}
