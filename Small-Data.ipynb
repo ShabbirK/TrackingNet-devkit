{
 "cells": [
  {
   "cell_type": "code",
   "execution_count": 1,
   "metadata": {},
   "outputs": [],
   "source": [
    "import pandas as pd"
   ]
  },
  {
   "cell_type": "code",
   "execution_count": 2,
   "metadata": {},
   "outputs": [],
   "source": [
    "anno_path = './csv_link/TRAIN_0_ANNO.csv'\n",
    "zips_path = './csv_link/TRAIN_0_ZIPS.csv'"
   ]
  },
  {
   "cell_type": "code",
   "execution_count": 3,
   "metadata": {},
   "outputs": [],
   "source": [
    "anno_df = pd.read_csv(anno_path)\n",
    "zips_df = pd.read_csv(zips_path)"
   ]
  },
  {
   "cell_type": "code",
   "execution_count": 6,
   "metadata": {},
   "outputs": [],
   "source": [
    "anno_df['id'] = anno_df['name'].str.replace('.txt', '')\n",
    "zips_df['id'] = zips_df['name'].str.replace('.zip', '')"
   ]
  },
  {
   "cell_type": "code",
   "execution_count": 9,
   "metadata": {},
   "outputs": [],
   "source": [
    "combined_df = anno_df.merge(zips_df, on='id')"
   ]
  },
  {
   "cell_type": "code",
   "execution_count": 15,
   "metadata": {},
   "outputs": [],
   "source": [
    "count = 10\n",
    "anno_short_df = anno_df[anno_df['name'].isin(combined_df['name_x'][:count])][['name', 'link']]\n",
    "zips_short_df = zips_df[zips_df['name'].isin(combined_df['name_y'][:count])][['name', 'link']]"
   ]
  },
  {
   "cell_type": "code",
   "execution_count": 18,
   "metadata": {},
   "outputs": [],
   "source": [
    "anno_short_df.to_csv('./csv_link_short/TRAIN_0_ANNO.csv', index=False)\n",
    "zips_short_df.to_csv('./csv_link_short/TRAIN_0_ZIPS.csv', index=False)"
   ]
  }
 ],
 "metadata": {
  "kernelspec": {
   "display_name": "Python 3",
   "language": "python",
   "name": "python3"
  },
  "language_info": {
   "codemirror_mode": {
    "name": "ipython",
    "version": 3
   },
   "file_extension": ".py",
   "mimetype": "text/x-python",
   "name": "python",
   "nbconvert_exporter": "python",
   "pygments_lexer": "ipython3",
   "version": "3.7.1"
  }
 },
 "nbformat": 4,
 "nbformat_minor": 2
}
